{
 "cells": [
  {
   "cell_type": "code",
   "execution_count": 1,
   "metadata": {},
   "outputs": [],
   "source": [
    "import cv2\n",
    "from cvzone.HandTrackingModule import HandDetector\n",
    "import cvzone\n",
    "import os\n",
    "import serial"
   ]
  },
  {
   "cell_type": "code",
   "execution_count": 7,
   "metadata": {},
   "outputs": [],
   "source": [
    "class DragImg():\n",
    "    def __init__(self, path, posOrigin, imgType):\n",
    "        self.posOrigin = posOrigin\n",
    "        self.imgType = imgType\n",
    "        self.path = path\n",
    "        if self.imgType == 'png':\n",
    "            self.img = cv2.imread(self.path, cv2.IMREAD_UNCHANGED)\n",
    "        else:\n",
    "            self.img = cv2.imread(self.path)\n",
    "        self.size = self.img.shape[:2]"
   ]
  },
  {
   "cell_type": "code",
   "execution_count": 5,
   "metadata": {},
   "outputs": [
    {
     "data": {
      "text/plain": [
       "['1_red.png', '3_blue.png', '2_green.png', '4_reset.png']"
      ]
     },
     "execution_count": 5,
     "metadata": {},
     "output_type": "execute_result"
    }
   ],
   "source": [
    "images_path = \"images\"\n",
    "myList = os.listdir(images_path)[::-1]\n",
    "myList"
   ]
  },
  {
   "cell_type": "code",
   "execution_count": 11,
   "metadata": {},
   "outputs": [
    {
     "data": {
      "text/plain": [
       "[<__main__.DragImg at 0x71d7601b6590>,\n",
       " <__main__.DragImg at 0x71d73d35ad40>,\n",
       " <__main__.DragImg at 0x71d72c318130>,\n",
       " <__main__.DragImg at 0x71d72c318dc0>]"
      ]
     },
     "execution_count": 11,
     "metadata": {},
     "output_type": "execute_result"
    }
   ],
   "source": [
    "listImg = []\n",
    "for x, image in enumerate(myList):\n",
    "    imgType = 'png' if 'png' in image else 'jpg'\n",
    "    listImg.append(DragImg(f'{images_path}/{image}', [400 + x * 150, 100], imgType))\n",
    "    length1 = length2 = length3 = 0\n",
    "\n",
    "listImg"
   ]
  }
 ],
 "metadata": {
  "kernelspec": {
   "display_name": "Python 3",
   "language": "python",
   "name": "python3"
  },
  "language_info": {
   "codemirror_mode": {
    "name": "ipython",
    "version": 3
   },
   "file_extension": ".py",
   "mimetype": "text/x-python",
   "name": "python",
   "nbconvert_exporter": "python",
   "pygments_lexer": "ipython3",
   "version": "3.10.12"
  }
 },
 "nbformat": 4,
 "nbformat_minor": 2
}
